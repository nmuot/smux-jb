{
 "cells": [
  {
   "cell_type": "markdown",
   "metadata": {},
   "source": [
    "# Exercies\n",
    "\n",
    "## Implémentation de la fonction exponentiel\n",
    "\n",
    "Faire un programme qui permet de calculer une forme approche de la fonction exponentielle en exploitant la notion d'erreur machine. Puis comparer les performanes de votre fonction avec la fonction native de votre langague de programation.\n",
    "\n",
    "Nous rappelon que la fonction exponentiel est définie par :\n",
    "\n",
    "$$\\exp(x) = \\sum_{n=0}^{\\infty} {\\frac{x^n}{n!}}$$\n",
    "\n",
    "Pour implémenter notre propre fonction exponentiel nous pouvons faire une troncature de la somme. C'est a dire sommer que les $N$ premier terme. Cette approche semble résonable car plus $n$ deviens grand plus le terme a ajouter deviens petit.\n",
    "\n",
    "$x^n < n!$ mettre un petit mots sur cette inégalité en tendance.\n",
    "\n",
    "Nous pouvons découpé notre somme en deux. Une premier somme sur les $N$ premier terme est une deux sur les suivants.\n",
    "\n",
    "$$\\exp(x) = \\sum_{n=0}^{N-1} {\\frac{x^n}{n!}} + \\sum_{n=N}^{\\infty} {\\frac{x^n}{n!}}$$\n",
    "\n",
    "Noton la premier somme $S_N(x) = \\sum_{n=0}^{N-1} {\\frac{x^n}{n!}}$. Il en viens une série $S_{n+1}(x) = S_{n}(x) + \\frac{x^n}{n!}$\n",
    "\n",
    "il ne nous reste plus cas trouver une bonne valeur de $N$. Nous savons de plus que la précision machine peut etre définie par $a \\equiv a + \\epsilon$. Cette forme n'ai pas sans nous rappeller la précédent ralation. Il viens assé n'aturélement qu'il n'y a plus lieux de rajouter le $n$-eme terme a $S$ s'il est inférieur a la présision machine. C'est a dire si $|\\frac{x^n}{n!}| < \\epsilon$."
   ]
  },
  {
   "cell_type": "code",
   "execution_count": 6,
   "metadata": {},
   "outputs": [
    {
     "name": "stdout",
     "output_type": "stream",
     "text": [
      "error -7.105427357601002e-15\n"
     ]
    }
   ],
   "source": [
    "import numpy as np\n",
    "\n",
    "def Exp(x: float):\n",
    "    eps = np.finfo(x).eps\n",
    "\n",
    "    s = 1.0\n",
    "\n",
    "    n = 1\n",
    "    numerator = x\n",
    "    denominateur = 1.0\n",
    "    a = numerator / denominateur\n",
    "\n",
    "    while np.abs(a) > eps:\n",
    "        \n",
    "        s += a\n",
    "\n",
    "        n += 1\n",
    "        numerator *= x\n",
    "        denominateur *= n\n",
    "        a = numerator / denominateur\n",
    "\n",
    "    return s\n",
    "\n",
    "print(\"error\", Exp(3.0) - np.exp(3))"
   ]
  },
  {
   "cell_type": "markdown",
   "metadata": {},
   "source": [
    "Nous obtenons pour cette valeur particulier une erreur relativement faible légérement suppérieur a la précision machine ($\\approx 10^{-16}$). Cependant nous nous somme arêté au momment précie ou nous passion en dessous de l'erreur machine. Oui mais !\n",
    "\n",
    "Nous arrétons de sommer les termes au momment au ceux ci deviens plus petit que la précision machine ($x^n / n! \\le \\epsilon$). Oui mais l'erreur que nous commaiton est : $ \\sum_{n=N}^{\\infty}{\\frac{ x^n }{ n! }} $.\n",
    "\n"
   ]
  },
  {
   "cell_type": "code",
   "execution_count": 7,
   "metadata": {},
   "outputs": [
    {
     "name": "stdout",
     "output_type": "stream",
     "text": [
      "55.76282558029801\n"
     ]
    }
   ],
   "source": [
    "import timeit\n",
    "\n",
    "t1 = timeit.timeit('[Exp(x) for x in np.linspace(0, 10, 2000)]', globals=globals(), number=3)\n",
    "t2 = timeit.timeit('[np.exp(x) for x in np.linspace(0, 10, 2000)]', globals=globals(), number=3)\n",
    "print(t1/t2)"
   ]
  }
 ],
 "metadata": {
  "kernelspec": {
   "display_name": "Python 3.7.9 ('.env': venv)",
   "language": "python",
   "name": "python3"
  },
  "language_info": {
   "codemirror_mode": {
    "name": "ipython",
    "version": 3
   },
   "file_extension": ".py",
   "mimetype": "text/x-python",
   "name": "python",
   "nbconvert_exporter": "python",
   "pygments_lexer": "ipython3",
   "version": "3.7.9"
  },
  "orig_nbformat": 4,
  "vscode": {
   "interpreter": {
    "hash": "732b87b06ba1a8386f3416f8de7aa2e5eb5daeb115b563ecc335141809791e3a"
   }
  }
 },
 "nbformat": 4,
 "nbformat_minor": 2
}
