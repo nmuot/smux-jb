{
 "cells": [
  {
   "cell_type": "code",
   "execution_count": 71,
   "metadata": {},
   "outputs": [],
   "source": [
    "import struct\n",
    "\n",
    "\n",
    "def ieee745_float_to_hex(f):\n",
    "    return hex(struct.unpack(\"<I\", struct.pack(\"<f\", f))[0])\n",
    "\n",
    "\n",
    "def ieee745_float_to_bin(num):\n",
    "    (bits,) = struct.unpack(\"!I\", struct.pack(\"!f\", num))\n",
    "    return \"{:032b}\".format(bits)\n",
    "\n",
    "\n",
    "def ieee745_float_to_int(num):\n",
    "    (bits,) = struct.unpack(\"!I\", struct.pack(\"!f\", num))\n",
    "    return bits\n",
    "\n",
    "\n",
    "def ieee745_bin_to_float(N):  # ieee-745 bits (max 64 bit)\n",
    "    a = int(N[0])  # sign,     1 bit\n",
    "    b = int(N[1:12], 2)  # exponent, 8 bits\n",
    "    c = int(\"1\" + N[12:], 2)  # fraction, len(N)-9 bits\n",
    "\n",
    "    return (-1) ** a * c / (1 << (len(N) - 9 - (b - 1024)))\n",
    "\n",
    "\n",
    "def int_to_bin(num):\n",
    "\n",
    "    return \"{0:b}\".format(num)\n",
    "\n",
    "\n",
    "def bin_to_int(num):\n",
    "\n",
    "    return int(num, 2)\n",
    "\n",
    "\n",
    "def hex_to_int(num):\n",
    "\n",
    "    return int(num, 16)\n",
    "\n",
    "\n",
    "import ctypes\n",
    "\n",
    "\n",
    "def float_to_int(num):\n",
    "    \n",
    "    return ctypes.c_uint32.from_buffer(ctypes.c_float(num)).value\n",
    "\n",
    "\n",
    "def int_to_float(num):\n",
    "\n",
    "    return ctypes.c_float.from_buffer(ctypes.c_uint32(num)).value\n"
   ]
  },
  {
   "cell_type": "code",
   "execution_count": 89,
   "metadata": {},
   "outputs": [
    {
     "name": "stdout",
     "output_type": "stream",
     "text": [
      "0.7071067149264607\n",
      "0.7071067811865475\n"
     ]
    }
   ],
   "source": [
    "import numpy as np\n",
    "\n",
    "THREEHALFS = np.float32(1.5)\n",
    "L = 2 ** 23\n",
    "B = 127\n",
    "SIG = 0.0430357\n",
    "SHIFT = int(round(3 / 2 * L * (B - SIG)))\n",
    "SHIFT = int(\"0x5f3759df\", 16)\n",
    "\n",
    "\n",
    "def rsqrt(a):\n",
    "\n",
    "    a = np.float32(a)\n",
    "\n",
    "    # evil floating point bit level hacking\n",
    "    i = float_to_int(a)\n",
    "    # what the fuck?\n",
    "    i = SHIFT - (i >> 1)\n",
    "    y = int_to_float(i)\n",
    "\n",
    "    x2 = np.float32(0.5) * a\n",
    "    # 1st iteration\n",
    "    y = y * (THREEHALFS - (x2 * y * y))\n",
    "    # 2nd iteration, this can be removed\n",
    "    y = y * (THREEHALFS - (x2 * y * y))\n",
    "\n",
    "    return y\n",
    "\n",
    "\n",
    "import timeit\n",
    "\n",
    "print(rsqrt(2.0))\n",
    "print(1 / np.sqrt(2.0))\n",
    "\n",
    "# print(timeit.timeit(\"rsqrt(2.0)\", globals=globals()))\n",
    "# print(timeit.timeit(\"1/np.sqrt(2.0)\", setup=\"import numpy as np\"))\n"
   ]
  }
 ],
 "metadata": {
  "kernelspec": {
   "display_name": "Python 3.7.9 ('.env': venv)",
   "language": "python",
   "name": "python3"
  },
  "language_info": {
   "codemirror_mode": {
    "name": "ipython",
    "version": 3
   },
   "file_extension": ".py",
   "mimetype": "text/x-python",
   "name": "python",
   "nbconvert_exporter": "python",
   "pygments_lexer": "ipython3",
   "version": "3.7.9"
  },
  "orig_nbformat": 4,
  "vscode": {
   "interpreter": {
    "hash": "732b87b06ba1a8386f3416f8de7aa2e5eb5daeb115b563ecc335141809791e3a"
   }
  }
 },
 "nbformat": 4,
 "nbformat_minor": 2
}
